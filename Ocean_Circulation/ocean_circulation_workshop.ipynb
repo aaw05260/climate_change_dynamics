{
 "cells": [
  {
   "cell_type": "markdown",
   "metadata": {},
   "source": [
    "# <font color=green> Global Warming Science</font>\n",
    "#### https://courses.seas.harvard.edu/climate/eli/Courses/EPS101/"
   ]
  },
  {
   "cell_type": "markdown",
   "metadata": {},
   "source": [
    "# Ocean  circulation collapse\n",
    "\n",
    "### <font color=red> Please use the template below to answer the workshop questions. \"XX\" indicates places where you need to complete/write code or add a discussion.</font>\n",
    "\n",
    "### your name: "
   ]
  },
  {
   "cell_type": "code",
   "execution_count": null,
   "metadata": {},
   "outputs": [],
   "source": [
    "# import needed libraries:\n",
    "# ------------------------\n",
    "import numpy as np\n",
    "import matplotlib.pyplot as plt\n",
    "import matplotlib\n",
    "from scipy.integrate import solve_ivp\n",
    "import pickle\n",
    "import datetime\n",
    "\n",
    "# load data from pickle file:\n",
    "# ---------------------------\n",
    "with open('./ocean_circulation_variables.pickle', 'rb') as file:\n",
    "    d = pickle.load(file)\n",
    "    # print information about each extracted variable:\n",
    "    for key in list(d.keys()):\n",
    "        print(\"extracting pickled variable: name=\", key, \"; size=\", d[key].shape)\n",
    "        #print(\"; type=\",type(d[key]))\n",
    "    globals().update(d)\n"
   ]
  },
  {
   "cell_type": "markdown",
   "metadata": {},
   "source": [
    "### Explanation of variables:\n",
    "\n",
    "**RAPID time series and time axis (given both as dates and as time in days):**\n",
    "\n",
    "RAPID_AMOC_data,\n",
    "RAPID_time,\n",
    "RAPID_dates\n",
    "\n",
    "**RAPID monthly climatology and parameters of a fit to a sine function:**\n",
    "\n",
    "RAPID_AMOC_monthly_climatology,\n",
    "RAPID_sine_fit_coeffs,\n",
    "\n",
    "The sine fit is given as $a_0+a_1\\sin(2\\pi(t_{years}+a_2)/365)$, where a=RAPID_sine_fit_coeffs and $t_{years}$ is RAPID_time.\n",
    "\n",
    "**AMOC stream function for 1st and last decades of 21ast century as a function of depth and latitude, with corresponding axes:**\n",
    "\n",
    "rcp85_AMOC_first_decade,\n",
    "rcp85_AMOC_last_decade,\n",
    "rcp85_depth,\n",
    "rcp85_latitude\n",
    "\n",
    "**Time series of AMOC projections and corresponding time axis:**\n",
    "\n",
    "rcp85_AMOC_timeseries,\n",
    "rcp85_years\n",
    "\n",
    "**AMOC value from ship obs and the corresponding times:**\n",
    "\n",
    "ship_obs_AMOC,\n",
    "ship_obs_months,\n",
    "ship_obs_years"
   ]
  },
  {
   "cell_type": "markdown",
   "metadata": {},
   "source": [
    "## 1) Observations: Has the AMOC decreased already over the past decades?\n",
    "\n",
    "#### 1a) Estimate the heat transport due to AMOC (Watts) by assuming it to be composed of poleward transport of 20 Sv in the upper 1000 m and a return flow below. Assume each of these two flows to carry water of a temperature that represents the average over these two depth ranges in the North Atlantic, as seen in the figure in Box 6.1. Compare to the world energy consumption per second."
   ]
  },
  {
   "cell_type": "code",
   "execution_count": null,
   "metadata": {},
   "outputs": [],
   "source": [
    "# heat transport \n",
    "# = mass transport (kg/s) * c_p (J/kg) * (T_{upper ocean} -T_{lower ocean}) (K)\n",
    "heat_transport=XX\n",
    "\n",
    "# The annual global energy consumption (J/s):\n",
    "world_consumption=XX\n",
    "\n",
    "print(\" AMOC transport=\",heat_transport\n",
    "      ,\"\\n world concumption per second=\",world_consumption\n",
    "      ,\"\\n AMOC/world consumption=\",heat_transport/world_consumption)"
   ]
  },
  {
   "cell_type": "markdown",
   "metadata": {},
   "source": [
    "#### 1b) Draw the AMOC estimate based on historical ship observations as a function of year."
   ]
  },
  {
   "cell_type": "code",
   "execution_count": null,
   "metadata": {},
   "outputs": [],
   "source": [
    "# plot ship_obs data:\n",
    "# -----------------\n",
    "plt.figure(figsize=(4,3),dpi=300)\n",
    "plt.plot(XX,XX,'-x',markersize=10)\n",
    "plt.xlabel(\"time (years)\")\n",
    "plt.ylabel(\"Sv\");\n",
    "plt.title(\"ship obs\");"
   ]
  },
  {
   "cell_type": "markdown",
   "metadata": {},
   "source": [
    "#### 1c) Draw the observed RAPID AMOC time series and the seasonal sine fit to it."
   ]
  },
  {
   "cell_type": "code",
   "execution_count": null,
   "metadata": {},
   "outputs": [],
   "source": [
    "a = 1.0*RAPID_sine_fit_coeffs\n",
    "RAPID_AMOC_sine_fit=XX a[0]* XX + a[1] XX\n",
    "\n",
    "plt.figure(figsize=(8,4),dpi=200)\n",
    "plt.plot(XX,XX,label=\"RAPID obs, smoothed\")\n",
    "plt.plot(XX,XX,label=\"sine fit\")\n",
    "plt.xlabel(\"time\")\n",
    "plt.ylabel(\"Sv\")\n",
    "plt.legend()\n",
    "plt.title(\"RAPID AMOC time series and sine fit to the data\")\n",
    "plt.show();"
   ]
  },
  {
   "cell_type": "markdown",
   "metadata": {},
   "source": [
    "#### 1d) Plot the monthly climatology of RAPID and the sine fit. Superimpose the few available AMOC transport estimates based on historical ship observations as if all observations were taken during different months of one year. Discuss your results."
   ]
  },
  {
   "cell_type": "code",
   "execution_count": null,
   "metadata": {},
   "outputs": [],
   "source": [
    "# plot AMOC monthly climatology with ship_obs data superimposed:\n",
    "# ------------------------------------------------------------\n",
    "fig=plt.figure(figsize=(6,4),dpi=200)\n",
    "time_months=(0.5+np.arange(0,12))\n",
    "time_sine_fit_months=np.arange(0,12,0.1)\n",
    "plt.plot(XX,XX,'rx',markersize=15,label=\"RAPID monthly climatology\")\n",
    "sine_fit=XX\n",
    "plt.plot(time_sine_fit_months,sine_fit,label=\"sine fit\")\n",
    "X=ship_obs_months[:]\n",
    "Y=ship_obs_AMOC[:]\n",
    "plt.scatter(X,Y,label=\"AMOC ship obs\")\n",
    "for i in range(len(X)):\n",
    "    plt.text(X[i],Y[i],str(ship_obs_years[i]))\n",
    "plt.xlabel(\"time (months)\")\n",
    "plt.ylabel(\"Sv\")\n",
    "plt.xlim(0,12)\n",
    "plt.legend();\n",
    "plt.show()"
   ]
  },
  {
   "cell_type": "markdown",
   "metadata": {},
   "source": [
    "Discuss: XX"
   ]
  },
  {
   "cell_type": "markdown",
   "metadata": {},
   "source": [
    "## 2) Projections:\n",
    "\n",
    "#### 2a) Plot the RCP8.5 projected AMOC time series (of maximum stream function) until 2100."
   ]
  },
  {
   "cell_type": "code",
   "execution_count": null,
   "metadata": {},
   "outputs": [],
   "source": [
    "plt.figure(figsize=(8,4),dpi=200)\n",
    "plt.plot(XX,XX)\n",
    "plt.xlabel(\"year\")\n",
    "plt.ylabel(\"Sv\")\n",
    "plt.title(\"max AMOC time series\")\n",
    "plt.show()"
   ]
  },
  {
   "cell_type": "markdown",
   "metadata": {},
   "source": [
    "### 2b) Contour the AMOC streamfunction averaged over the first decade of the RCP8.5 scenario (2006–2016), as well as averaged over the last decade of this century (2090–2100). Discuss."
   ]
  },
  {
   "cell_type": "code",
   "execution_count": null,
   "metadata": {},
   "outputs": [],
   "source": [
    "plt.figure(figsize=(12,6))\n",
    "levels=np.arange(-8,28,2) # in Sverdrup, adjust as needed\n",
    "\n",
    "plt.subplot(1,2,1)\n",
    "plt.contourf(rcp85_latitude,rcp85_depth,rcp85_AMOC_first_decade,levels)\n",
    "plt.gca().invert_yaxis()\n",
    "plt.colorbar()\n",
    "plt.title(\"AMOC first decade\")\n",
    "plt.xlim(-40,90)\n",
    "\n",
    "plt.subplot(1,2,2)\n",
    "XX contourf last decade and add colorbar as in the first subplot above\n",
    "plt.title(\"AMOC, last decade\")\n",
    "plt.xlim(-40,90)\n",
    "\n",
    "plt.tight_layout()\n",
    "plt.show();"
   ]
  },
  {
   "cell_type": "markdown",
   "metadata": {},
   "source": [
    "discussion: XX"
   ]
  },
  {
   "cell_type": "markdown",
   "metadata": {},
   "source": [
    "## 3) Stommel model:\n",
    "\n",
    "#### 3a) Plot the steady states of the AMOC for fresh water forcings of Fs = 0,..,5 m/year. Discuss."
   ]
  },
  {
   "cell_type": "code",
   "execution_count": null,
   "metadata": {},
   "outputs": [],
   "source": [
    "# first cell out of three: setup parameters and needed functions:\n",
    "# ---------------------------------------------------------------\n",
    "\n",
    "# set parameters:\n",
    "meter=1;\n",
    "year=365*24*3600;\n",
    "S0=35.0;\n",
    "DeltaT=-10;\n",
    "time_max=10000*year;\n",
    "alpha=0.2; # (kg/m^3) K^-1\n",
    "beta=0.8; # (kg/m^3) ppt^-1\n",
    "k=10e9 # (m^3/s)/(kg/m^3) #  3e-8; # sec^-1\n",
    "# area of each of the ocean boxes, rediculous value, needed to get\n",
    "# all other results at the right order of magnitude:\n",
    "area=(50000.0e3)**2\n",
    "depth=4000\n",
    "V=area*depth # volume of each of the ocean boxes\n",
    "Sv=1.e9 # m^3/sec\n",
    "\n",
    "\n",
    "########################################################################\n",
    "def q(DeltaT,DeltaS):\n",
    "    ########################################################################\n",
    "    # THC transport in m^3/sec as function of temperature and salinity\n",
    "    # difference between the boxes\n",
    "    flow=XX # this is \"q\" from the course notes\n",
    "    return flow\n",
    "\n",
    "\n",
    "########################################################################\n",
    "def steady_states(Fs,X):\n",
    "    ########################################################################\n",
    "    # 3 steady solutions for Y:\n",
    "    y1=XX\n",
    "    if XX>0:\n",
    "        y2=XX\n",
    "        y3=XX\n",
    "    else:\n",
    "        y2=np.nan\n",
    "        y3=np.nan\n",
    "    Y=np.array([y1,y2,y3])\n",
    "    return Y\n",
    "\n",
    "########################################################################\n",
    "def Fs_func(time,time_max,is_Fs_time_dependent):\n",
    "    ########################################################################\n",
    "    # total surface salt flux into northern box\n",
    "\n",
    "    ########################################################################\n",
    "    # Specify maximum and minimum of freshwater forcing range during the\n",
    "    # run in m/year:\n",
    "    FW_min=-0.1;\n",
    "    FW_max=5;\n",
    "    ########################################################################\n",
    "    if is_Fs_time_dependent:\n",
    "            flux=FW_min+(FW_max-FW_min)*time/time_max;\n",
    "    else:\n",
    "        flux=2;\n",
    "\n",
    "    # convert to total salt flux:\n",
    "    return flux*area*S0/year"
   ]
  },
  {
   "cell_type": "code",
   "execution_count": null,
   "metadata": {},
   "outputs": [],
   "source": [
    "# second cell out of three: calculate:\n",
    "# ------------------------------------\n",
    "\n",
    "# find steady states, including unstable ones, as function of F_s:\n",
    "# ----------------------------------------------------------------\n",
    "\n",
    "Fs_range=np.arange(0,5,0.01)*area*S0/year\n",
    "# set up two arrays for results, to be calculated in loop below:\n",
    "DeltaS_steady=np.zeros((3,len(Fs_range)))\n",
    "q_steady=np.zeros((3,len(Fs_range)))\n",
    "\n",
    "i=0\n",
    "for Fs in Fs_range:\n",
    "    Y=steady_states(Fs,alpha*DeltaT)\n",
    "    # translate Y solution to a solution for DeltaS:\n",
    "    DeltaS_steady[:,i]=XX\n",
    "    for j in range(0,3):\n",
    "        q_steady[j,i]=q(DeltaT,DeltaS_steady[j,i])\n",
    "    i=i+1"
   ]
  },
  {
   "cell_type": "code",
   "execution_count": null,
   "metadata": {},
   "outputs": [],
   "source": [
    "# third cell out of three: plot\n",
    "# -----------------------------\n",
    "\n",
    "plt.figure(1,figsize=(8,4),dpi=200)\n",
    "\n",
    "Fs_to_m_per_year=S0*area/year\n",
    "plt.subplot(1,2,1)\n",
    "# plot all three solutions for Delta S as function of Fs in units of m/year:\n",
    "plt.plot(XX,XX,'r.',markersize=1)\n",
    "plt.plot(XX,XX,'g.',markersize=1)\n",
    "plt.plot(XX,XX,'b.',markersize=1)\n",
    "# plot a dash think line marking the zero value:\n",
    "plt.plot(XX,XX,'k--',dashes=(10, 5),linewidth=0.5)\n",
    "plt.title('(a) steady states')\n",
    "plt.xlabel('$F_s$ (m/year)');\n",
    "plt.ylabel('$\\Delta S$');\n",
    "plt.xlim([min(Fs_range/Fs_to_m_per_year), max(Fs_range/Fs_to_m_per_year)])\n",
    "\n",
    "plt.subplot(1,2,2)\n",
    "# plot all three solutions for q (in Sv) as function of Fs in units of m/year:\n",
    "plt.plot(XX,XX,'r.',markersize=1)\n",
    "plt.plot(XX,XX,'g.',markersize=1)\n",
    "plt.plot(XX,XX,'b.',markersize=1)\n",
    "plt.plot(XX,XX,'k--',dashes=(10, 5),linewidth=0.5)\n",
    "plt.title('(b) steady states')\n",
    "plt.xlabel('$F_s$ (m/year)');\n",
    "plt.ylabel('$q$ (Sv)');\n",
    "\n",
    "plt.tight_layout()\n",
    "plt.show()"
   ]
  },
  {
   "cell_type": "markdown",
   "metadata": {},
   "source": [
    "#### 3b) Integrate the time dependent differential equation for ∆S in a scenario of slowly increasing fresh water forcing, plot the resulting AMOC (q) as function of time."
   ]
  },
  {
   "cell_type": "code",
   "execution_count": null,
   "metadata": {},
   "outputs": [],
   "source": [
    "########################################################################\n",
    "def rhs_S(time,DeltaS,time_max,DeltaT,is_Fs_time_dependent):\n",
    "    ########################################################################\n",
    "    # right hand side of the equation for d/dt(DeltaS):\n",
    "    # Input: q in m^3/sec; FW is total salt flux into box\n",
    "    rhs=np.zeros((1,1))# XX;\n",
    "    return rhs/V\n",
    "\n",
    "    \n",
    "# next, do a time dependent run:\n",
    "# ------------------------------\n",
    "is_Fs_time_dependent=True;\n",
    "y0=[0]\n",
    "teval=np.arange(0,time_max,time_max/1000)\n",
    "tspan=(teval[0],teval[-1])\n",
    "sol = solve_ivp(fun=lambda time,DeltaS: rhs_S(time,DeltaS,time_max,DeltaT,is_Fs_time_dependent) \\\n",
    "                ,vectorized=False,y0=y0,t_span=tspan,t_eval=teval)\n",
    "Time=sol.t\n",
    "DeltaS=sol.y\n",
    "\n",
    "is_Fs_time_dependent=True;\n",
    "FWplot=np.zeros(len(Time))\n",
    "qplot=np.zeros(len(Time))\n",
    "i=0;\n",
    "for t in Time:\n",
    "    FWplot[i]=Fs_func(t,time_max,is_Fs_time_dependent);\n",
    "    qplot[i]=q(DeltaT,DeltaS[0,i]);\n",
    "    i=i+1;\n",
    "    \n",
    "N=len(qplot); \n",
    "\n",
    "\n",
    "########################################################################\n",
    "## plots:\n",
    "########################################################################\n",
    "\n",
    "plt.figure(figsize=(12,4),dpi=200)\n",
    "plt.subplot(1,3,1)\n",
    "plt.plot(Time/year/1000,FWplot/Fs_to_m_per_year,'b-',markersize=1)\n",
    "plt.plot(Time/year/1000,0*Time,'k--',dashes=(10, 5),linewidth=0.5)\n",
    "plt.xlabel('time (kyr)');\n",
    "plt.ylabel('$F_s$ (m/yr)');\n",
    "plt.title('(d) $F_s$ for time-dependent run');\n",
    "\n",
    "plt.subplot(1,3,2)\n",
    "plt.plot(Time/year/1000,qplot/Sv,'b-',markersize=1)\n",
    "plt.plot(Time/year/1000,Time*0,'k--',dashes=(10, 5),lw=0.5)\n",
    "plt.xlabel('time (kyr)');\n",
    "plt.ylabel('THC $q$ (Sv)');\n",
    "plt.title('(e) THC transport $q$');\n",
    "\n",
    "plt.subplot(1,3,3)\n",
    "plt.plot(Time/year/1000,DeltaS[0,:],'b-',markersize=1)\n",
    "plt.title('(f) $\\Delta S$ vs time');\n",
    "plt.xlabel('time (kyr)');\n",
    "plt.ylabel('$\\Delta S$');\n",
    "\n",
    "\n",
    "plt.tight_layout()\n",
    "plt.show()"
   ]
  },
  {
   "cell_type": "markdown",
   "metadata": {},
   "source": [
    "discussion: XX"
   ]
  },
  {
   "cell_type": "markdown",
   "metadata": {},
   "source": [
    "#### 3c) Plot d∆S/dt as function of ∆S and discuss the stability of the three possible solutions."
   ]
  },
  {
   "cell_type": "code",
   "execution_count": null,
   "metadata": {},
   "outputs": [],
   "source": [
    "# calculate dDeltaS/dt as function of DeltaS for stability analysis:\n",
    "# ------------------------------------------------------------------\n",
    "\n",
    "# use fixed (time-independent) value of fresh water forcing for this case:\n",
    "is_Fs_time_dependent=False\n",
    "time=0\n",
    "DeltaS_range=np.arange(-3,0,0.01)\n",
    "rhs=np.zeros(len(DeltaS_range))\n",
    "for i in range(0,len(DeltaS_range)):\n",
    "    DeltaS = DeltaS_range[i]\n",
    "    rhs[i]=rhs_S(time,DeltaS,time_max,DeltaT,is_Fs_time_dependent)\n",
    "    i=i+1\n",
    "rhs=rhs/np.std(rhs)\n",
    "\n",
    "\n",
    "plt.figure(figsize=(5,4),dpi=200)\n",
    "plt.plot(DeltaS_range,rhs,'k-',lw=2)\n",
    "plt.plot(DeltaS_range,rhs*0,'k--',dashes=(10, 5),lw=0.5)\n",
    "# superimpose color markers of the 3 solutions\n",
    "Fs=Fs_func(0.0,0.0,False)\n",
    "yy=steady_states(Fs,alpha*DeltaT)/beta\n",
    "plt.plot(yy[0],0,'ro',markersize=10)\n",
    "plt.plot(yy[1],0,'go',markersize=10)\n",
    "plt.plot(yy[2],0,'bo',markersize=10,fillstyle='none')\n",
    "plt.title('(c) stability')\n",
    "plt.xlabel('$\\Delta S$');\n",
    "plt.ylabel('$d\\Delta S/dt$');"
   ]
  },
  {
   "cell_type": "markdown",
   "metadata": {},
   "source": [
    "discussion: XX"
   ]
  },
  {
   "cell_type": "markdown",
   "metadata": {},
   "source": [
    "### 3d) Explain how tipping points and hysteresis may occur in this model."
   ]
  },
  {
   "cell_type": "markdown",
   "metadata": {},
   "source": [
    "XX explanation"
   ]
  }
 ],
 "metadata": {
  "kernelspec": {
   "display_name": "Python 3 (ipykernel)",
   "language": "python",
   "name": "python3"
  },
  "language_info": {
   "codemirror_mode": {
    "name": "ipython",
    "version": 3
   },
   "file_extension": ".py",
   "mimetype": "text/x-python",
   "name": "python",
   "nbconvert_exporter": "python",
   "pygments_lexer": "ipython3",
   "version": "3.11.0"
  }
 },
 "nbformat": 4,
 "nbformat_minor": 4
}
