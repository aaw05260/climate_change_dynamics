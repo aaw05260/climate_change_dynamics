{
 "cells": [
  {
   "cell_type": "markdown",
   "metadata": {},
   "source": [
    "# <font color=green> Global Warming Science</font>\n",
    "#### https://courses.seas.harvard.edu/climate/eli/Courses/EPS101/"
   ]
  },
  {
   "cell_type": "markdown",
   "metadata": {},
   "source": [
    "# Sea Level\n",
    "\n",
    "### <font color=red> Please use the template below to answer the workshop questions. \"XX\" indicates places where you need to complete/write code or add a discussion.</font>\n",
    "\n",
    "### your name:"
   ]
  },
  {
   "cell_type": "markdown",
   "metadata": {},
   "source": [
    "### If not using FAS on-demand Jupyter server, required installations first:\n",
    "\n",
    "from a terminal try: <br>\n",
    " conda install cartopy <br>\n",
    " pip install gsw <br>\n",
    "\n",
    "Another option for cartopy: in Anaconda Navigator, click Environments, then change in the pull-down menu \"Installed\" to \"All\"; find cartopy, mark it for installation and click Apply.  \n",
    "\n",
    "If both of these options do not work, try \"pip install cartopy\" instead of \"conda install cartopy\" for cartopy. "
   ]
  },
  {
   "cell_type": "code",
   "execution_count": null,
   "metadata": {},
   "outputs": [],
   "source": [
    "# import needed libraries and load data:\n",
    "import numpy as np\n",
    "import numpy.matlib as matlib\n",
    "import pickle\n",
    "import matplotlib.pyplot as plt\n",
    "import scipy.integrate as integrate\n",
    "import gsw\n",
    "import cartopy.crs as ccrs\n",
    "import cartopy.feature as cfeature\n",
    "from cartopy.feature import NaturalEarthFeature\n",
    "from cartopy import config\n",
    "from matplotlib.colors import BoundaryNorm\n",
    "from matplotlib import ticker\n",
    "\n",
    "# Read 2-d sea surface data for historical and rcp85 experiment\n",
    "with open('./sea_level_variables.pickle', 'rb') as file:\n",
    "    d = pickle.load(file)\n",
    "    # print information about each extracted variable:\n",
    "    for key in list(d.keys()):\n",
    "        print(\"extracting pickled variable: name=\", key,  \"; size=\", d[key].shape)\n",
    "        #print(\"type=\",type(d[key]))\n",
    "    globals().update(d)"
   ]
  },
  {
   "cell_type": "markdown",
   "metadata": {},
   "source": [
    "### Explanation of input variables: \n",
    "\n",
    "**sea level as a function of time, latitude and longitude:**\n",
    "\n",
    "\n",
    "sealevel_historical, sealevel_historical_years\n",
    "\n",
    "sealevel_rcp85, sealevel_rcp85_years\n",
    "\n",
    "the corresponding lon/lat axes:\n",
    "\n",
    "sealevel_lon, sealevel_lat\n",
    "\n",
    "**ocean temperatures as a function of depth, latitude and longitude:**\n",
    "\n",
    "Temperature_ocean_1850,\n",
    "Temperature_ocean_2100,\n",
    "\n",
    "and the corresponding three axes:\n",
    "\n",
    "Temperature_ocean_lon,\n",
    "Temperature_ocean_lat,\n",
    "Temperature_ocean_lev,\n",
    "\n",
    "**global mean sea level time series and corresponding time axes:**\n",
    "\n",
    "GMSL_thermosteric_historical,\n",
    "GMSL_thermosteric_historical_years,\n",
    "\n",
    "GMSL_thermosteric_rcp85,\n",
    "GMSL_thermosteric_rcp85_years,\n",
    "\n",
    "GMSL_since_1700_years,\n",
    "GMSL_since_1700,\n",
    "\n",
    "\n",
    "**Comments:**\n",
    "\n",
    "1) sealevel_historical and sealevel_rcp8.5 both have zero spatial mean, and therefore represent only the deviation from this mean. The GMSL itself (contribution due to ocean warming) is given by GMSL_thermosteric_historical and GMSL_thermosteric_rcp85.\n",
    "\n",
    "2) areacello gives the area of each grid cell, used to calculate spatial averates\n",
    "\n",
    "3) GMSL_since_1700 contains the Jevrejeva et al (2008) data"
   ]
  },
  {
   "cell_type": "markdown",
   "metadata": {},
   "source": [
    "## 1) Characterizing sea level rise:\n",
    "\n",
    "#### 1a) GMSL: Plot the globally-averaged sea level anomaly from 1850 to 2100 for his- torical and then RCP8.5 scenarios, and a quadratic polynomial to it. Discuss how and why the rate of the sea level rise in the two scenarios changes over this period."
   ]
  },
  {
   "cell_type": "code",
   "execution_count": null,
   "metadata": {},
   "outputs": [],
   "source": [
    "# combine historical and rcp85 records into one:\n",
    "years=np.hstack([GMSL_thermosteric_historical_years,GMSL_thermosteric_rcp85_years]); \n",
    "SSH=np.hstack([GMSL_thermosteric_historical,GMSL_thermosteric_rcp85])\n",
    "\n",
    "## least square fit of the time series to a parabola\n",
    "# x=np.polyfit(XX,XX,2);\n",
    "SSH_fit=x[0]*years**2+x[1]*years+x[2];\n",
    "\n",
    "print(\"SSH_fit=x[0]*years**2+x[1]*years+x[2]; where x=\",x[0],x[1],x[2])\n",
    "\n",
    "# plot GMSL and fit:\n",
    "plt.figure(dpi=200)\n",
    "plt.plot(XX,XX,\"b\",lw=1,label=\"thermosteric historical\")\n",
    "plt.plot(XX,XX,\"r\",lw=1,label=\"thermosteric rcp8.5\")\n",
    "plt.plot(XX,XX,'g--',label=\"quadratic fit\")\n",
    "plt.xlabel('Year')\n",
    "plt.ylabel('Sea level (m)');\n",
    "plt.legend();\n",
    "plt.title('GMSL');"
   ]
  },
  {
   "cell_type": "markdown",
   "metadata": {},
   "source": [
    "### discussion:\n",
    "\n",
    "XX"
   ]
  },
  {
   "cell_type": "markdown",
   "metadata": {},
   "source": [
    "#### 1b) Spatial structure sea level rise: contour the spatial structure of sea level rise across the historical period and across the RCP8.5 period, explain your results, in particular discuss the region of the Southern Ocean. Read carefully the information about the workshop variables."
   ]
  },
  {
   "cell_type": "code",
   "execution_count": null,
   "metadata": {},
   "outputs": [],
   "source": [
    "# contour sea level changes across historical and rcp85 periods:\n",
    "# preliminaries, defining configuration of subplots:\n",
    "projection=ccrs.PlateCarree()\n",
    "fig,axes=plt.subplots(1,2,figsize=(12,6)\\\n",
    "                      ,subplot_kw={'projection': projection},dpi=200)\n",
    "cmap = plt.get_cmap('jet')\n",
    "\n",
    "# plot historical GMSL:\n",
    "axes[0].set_extent([0, 359.999, -90, 90], crs=ccrs.PlateCarree())\n",
    "axes[0].coastlines(resolution='110m')\n",
    "axes[0].gridlines()\n",
    "c=axes[0].pcolormesh(sealevel_lon,sealevel_lat\\\n",
    "               ,(sealevel_historical[-1,:,:]-sealevel_historical[0,:,:])\\\n",
    "                +(GMSL_thermosteric_historical[-1]-GMSL_thermosteric_historical[0]) \\\n",
    "               ,vmin=-0.4,vmax=0.4\\\n",
    "                     ,cmap=\"bwr\"\\\n",
    "              ,transform=ccrs.PlateCarree())\n",
    "clb=plt.colorbar(c, shrink=0.45, pad=0.02,ax=axes[0],label=\"meter\")\n",
    "axes[0].set_title(\"sealevel rise over years \"+repr(sealevel_historical_years[-1])\n",
    "                                      +\"-\"+repr(sealevel_historical_years[0]))\n",
    "\n",
    "# plot rcp8.5 GMSL:\n",
    "axes[1].set_extent([0, 359.999, -90, 90], crs=ccrs.PlateCarree())\n",
    "XX\n",
    "axes[1].set_title(\"sealevel rise over years \"+repr(sealevel_rcp85_years[-1])\n",
    "                                      +\"-\"+repr(sealevel_rcp85_years[0]))\n",
    "\n",
    "plt.subplots_adjust(top=0.92, bottom=0.08, left=0.01, right=0.95, hspace=0.15,wspace=0.1)\n",
    "plt.show();"
   ]
  },
  {
   "cell_type": "markdown",
   "metadata": {},
   "source": [
    "## 2) Temperature, density and sea level rise.\n",
    "\n",
    "#### 2a) Plot ocean water density as function of temperature for $T=-2,\\ldots,30$ °C. Plot the expansion coefficient $\\alpha$ ($^\\circ$C$^{-1}$) for the same temperature range. Discuss the implications on sea level rise of the dependence of the expansion coefficient on temperature."
   ]
  },
  {
   "cell_type": "code",
   "execution_count": null,
   "metadata": {},
   "outputs": [],
   "source": [
    "T=np.arange(-2,30,0.1)\n",
    "S=T*0+35\n",
    "P=T*0\n",
    "rho=gsw.rho(S,T,P)\n",
    "# calculate the thermal expansion coefficient at the specified salinity, \n",
    "# temperature and pressure:\n",
    "alpha=gsw.alpha(S,T,P)\n",
    "\n",
    "print(\"alpha(2C),alpha(10C)=\",XX,XX\n",
    "      ,\"Delta rho(3-2C) Delta rho(11-10C)=\",XX,XX)\n",
    "plt.figure(figsize=(8,4),dpi=150)\n",
    "plt.subplot(1,2,1)\n",
    "plt.plot(XX,XX)\n",
    "plt.xlabel(\"Temperature (C)\")\n",
    "plt.ylabel(\"density (kg/m$^3$)\")\n",
    "\n",
    "plt.subplot(1,2,2)\n",
    "plt.plot(XX,XX)\n",
    "plt.xlabel(\"Temperature (C)\")\n",
    "plt.ylabel(\"alpha (C$^{-1}$)\")\n",
    "\n",
    "plt.tight_layout()\n",
    "plt.show();"
   ]
  },
  {
   "cell_type": "markdown",
   "metadata": {},
   "source": [
    "<b>Discussion:</b> XX."
   ]
  },
  {
   "cell_type": "markdown",
   "metadata": {},
   "source": [
    "#### 2b) Assuming warming is exponential in depth, $\\delta T(z)=4\\exp(z/500)$, and extending to the ocean bottom at 4 km. Calculate the expected sea level rise. Assume the equation of state is $\\rho=\\rho_0\\left[1-\\alpha\\left(T-T_0\\right)\\right]$, in which $\\rho_0=1025$ kg/m$^3$, $\\alpha=1.668\\times 10^{-4}$ °C$^{-1}$ and $T_0=10$ °C. What is the expected sea level rise if the exponential decay scale is 1000 m instead of 500 m? Explain."
   ]
  },
  {
   "cell_type": "code",
   "execution_count": null,
   "metadata": {},
   "outputs": [],
   "source": [
    "# calculate the expected GMSL rise:\n",
    "h=4000.0; # average depth of the ocean\n",
    "alpha=XX; # thermal expansion coefficient at T=10C [alpha is approximated to be a constant here]\n",
    "decay_scale=500\n",
    "# use one of two approaches: \n",
    "# (1) library integration routine [integrate.quad(...)] or\n",
    "# (2) using the analytic integral of the exponential function.\n",
    "Delta_GMSL=XX\n",
    "print(\"The warming will lead to %5.3g meters of sea level rise.\" % Delta_GMSL[0])\n",
    "\n",
    "# plot the warming temperature profile:\n",
    "plt.figure(dpi=200)\n",
    "N=101;\n",
    "z=np.arange(-h,0,h/N)\n",
    "Delta_T=XX\n",
    "plt.plot(XX,XX)\n",
    "plt.xlabel(\"$\\Delta T(z)$, warming ($^\\circ$C)\")\n",
    "plt.ylabel(\"Depth (m)\")\n",
    "plt.show();"
   ]
  },
  {
   "cell_type": "markdown",
   "metadata": {},
   "source": [
    "#### 2c) Sea ice and sea level rise: \n",
    "Consider a 1 cm$^3$ ice cube floating in a cup of seawater whose radius is 5 cm and where the water height is 10 cm. Calculate the change in water level in the cup when the ice cube melts, assuming first that the seawater is of salinity of 35 ppt, and then when the cup is filled with fresh water. Assume that the melt water mixes with the water in the cup and that the density is linearly related to salinity as $\\rho(T_0,S)=\\rho_0(1+\\alpha_S(S-S_0))$ with $S_0=35$ ppt, $\\rho_0=1$ gr/cm$^3$, and $\\alpha_S=0.8$ ppt$^{-1}$."
   ]
  },
  {
   "cell_type": "code",
   "execution_count": null,
   "metadata": {},
   "outputs": [],
   "source": [
    "# Given\n",
    "S0 = 35           # ppt\n",
    "rho0 = 1025       # kg m^-3\n",
    "rho_ice = XX      # kg m^-3\n",
    "alpha_S = 0.8     # ppt^-1\n",
    "radius = 0.05     # m\n",
    "height = 0.10     # m\n",
    "cube_size=XX      # m\n",
    "d0 = height       # m\n",
    "\n",
    "# calculate the mass of ice present in the ice cube\n",
    "mass_melt = XX\n",
    "\n",
    "# Calculate the initial mass occupied by the water in the cup: \n",
    "# (calculate it from the water volume, but take into account the \n",
    "# water displaced by the ice)\n",
    "mass_water = XX\n",
    "\n",
    "# calculate the new salinity by taking a mass weighted average of the water in the cup:\n",
    "S_new = XX\n",
    "\n",
    "# Calculate the new density of the water due to this change in salinity\n",
    "rho_new = XX\n",
    "\n",
    "# use the equation for change in depth with change in density\n",
    "deltad = XX\n",
    "\n",
    "print('the water level change is ', 100*deltad, ' cm')"
   ]
  },
  {
   "cell_type": "markdown",
   "metadata": {},
   "source": [
    "#### (2d) Optional extra credit: Given a certain amount of heat (in J) added to the climate system, would it cause more sea level rise if it melts land ice or leads to expansion of seawater? Your answer should take into account the initial temperatures of the ice and of the ocean. Contour the ratio of the two possible contributions to sea level rise as a function of these two temperatures."
   ]
  },
  {
   "cell_type": "code",
   "execution_count": null,
   "metadata": {},
   "outputs": [],
   "source": [
    "# available heat: J/m^2\n",
    "Heat=1000\n",
    "\n",
    "# initial temperatures:\n",
    "T_i_ocean=0\n",
    "T_i_ice=-5\n",
    "\n",
    "# latent heat of freezing and specific heat capacities:\n",
    "L=334e3 # J/kg \n",
    "c_p_ice=2090 # J/(kg C)\n",
    "c_p_water=3850 # J/(kg C)\n",
    "\n",
    "# densities:\n",
    "rho_ice=900\n",
    "rho_water=1024\n",
    "# thermal expansion coefficient at the freezing temperature:\n",
    "alpha=gsw.alpha(35,0,0)\n",
    "\n",
    "# sea level rise due to ocean warming:\n",
    "Delta_SSH_ocean_warming=Heat/(rho_water*c_p_water)\n",
    "\n",
    "# sea level rise due to ice melting:\n",
    "heat_ice_to_melt_temperature=rho_ice*c_p_ice*(T_i_ice-0)\n",
    "heat_for_melting=Heat-heat_ice_to_melt_temperature\n",
    "Delta_SSH_ice_melting=heat_for_melting/(L*rho_ice)\n",
    "\n",
    "print(\" SSH due to ocean warming=\",Delta_SSH_ocean_warming\n",
    "     ,\"\\n SSH due to ice melting=\",Delta_SSH_ice_melting)\n"
   ]
  },
  {
   "cell_type": "markdown",
   "metadata": {},
   "source": [
    "\n",
    "## 3) Given the 3d temperature at 1850 and the CMIP5 RCP8.5 estimate at 2100, calculate and plot the local contribution to sea level rise as function of longitude and latitude, and calculate the expected GMSL rise. Use variable {areacello} for the averaging. Assume that salinity is a constant at 35 ppt, considering only the effects of warming."
   ]
  },
  {
   "cell_type": "code",
   "execution_count": null,
   "metadata": {},
   "outputs": [],
   "source": [
    "# calculate ocean layer thicknesses to be used in integral for sea level rise:\n",
    "dZ=np.zeros(len(Temperature_ocean_lev)) # set up an array for layer thicknessess\n",
    "# calculate all layer thicknesses but first:\n",
    "dZ[1:]=Temperature_ocean_lev[1:]-Temperature_ocean_lev[0:-1]\n",
    "# first level thickness:\n",
    "dZ[0]=Temperature_ocean_lev[0]\n",
    "# last level thickness does not exist (with N levels, there are N-1 thicknesses):\n",
    "dZ[-1]=0\n",
    "\n",
    "# calculate ocean densities before and after the warming:\n",
    "Salinity=np.zeros(Temperature_ocean_1850.shape)+35\n",
    "theta1=Temperature_ocean_1850-273.15  # convert to Celsius\n",
    "pressure=np.zeros(theta1.shape)\n",
    "rho1=gsw.rho(Salinity,theta1,pressure)\n",
    "\n",
    "theta2=Temperature_ocean_2100-273.15 # convert to Celsius\n",
    "rho2=gsw.rho(Salinity,theta2,pressure)\n",
    "\n",
    "# calculate the sea level rise at each horizontal location:\n",
    "# Integrate the appropriate density ratio in the vertical to find dSSH locally:\n",
    "Nz,Ny,Nx=density_ratio.shape\n",
    "dSSH=np.zeros((Ny,Nx))\n",
    "for i in range(Nx):\n",
    "    for j in range(Ny):\n",
    "        for k in range(Nz):\n",
    "            # integrate over non-NaN values only!\n",
    "            if ~np.isnan(rho1[k,j,i]):\n",
    "                dSSH[j,i]=dSSH[j,i]+XX\n",
    "\n",
    "# calculate global averaged GMSL rise using weighting by the variable arealcello:\n",
    "dGMSL=XX # can use np.nansum\n",
    "print(\"GMSL rise due to warming is %5.3g m\" % dGMSL)\n",
    "\n",
    "## make a pcolormesh figure of the pattern of SSH anomaly\n",
    "projection=ccrs.PlateCarree()\n",
    "fig,axes=plt.subplots(1,1,figsize=(6,6)\\\n",
    "                      ,subplot_kw={'projection': projection},dpi=200)\n",
    "XX add plot commands here\n",
    "axes.set_title(\"local contributions to sea level rise due to warming\");"
   ]
  },
  {
   "cell_type": "markdown",
   "metadata": {},
   "source": [
    "## 4) Wind forcing and the Coriolis force:\n",
    "\n",
    "### a) Consider a storm in the Adriatic Sea north of Monte Gargano, with wind blowing along the length of the sea toward Venice at 30 m/s. Calculate the sea level rise at the far north end of the sea."
   ]
  },
  {
   "cell_type": "code",
   "execution_count": null,
   "metadata": {},
   "outputs": [],
   "source": [
    "# define parameters and variables to be use\n",
    "Rhoa=XX;  # kg/m^3, density of air\n",
    "Cd=0.0013;  # bulk formula coefficient\n",
    "U=XX;    # m/s, wind speed\n",
    "U_km_per_hour=XX\n",
    "rho0=XX;  # kg/m^3, density of sea water\n",
    "g=XX;  # m/s^2, acceleration due to gracity\n",
    "L=XX;  # m, the length of the northern Adriatic Sea in meters\n",
    "h=XX; # the approx average depth of the Adriatic Sea north of Monte Gargano, in meters\n",
    "\n",
    "# calculate wind stress using the bulk formula which says: wind stress=Cd*[atmospheric density]*[surface wind squared]\n",
    "tau=XX\n",
    "# calculate the sea level difference along the whole length of the Adriatic sea\n",
    "dH=XX\n",
    "\n",
    "# print results:\n",
    "print(\"given a wind speed of U= %3.3g m/s (%3.3g km/hour), the stress is tau= %3.2g N/m^2,\" % (U,U_km_per_hour,tau) )\n",
    "print(\"and the sea level rise in the northern edge of the Adriatic Sea is expected to be %4.2g meters.\" % dH );"
   ]
  },
  {
   "cell_type": "markdown",
   "metadata": {},
   "source": [
    "### (b) Calculate the sea level change expected in the center of a category 4 hurricane whose center pressure is 920 to 944 mb."
   ]
  },
  {
   "cell_type": "code",
   "execution_count": null,
   "metadata": {},
   "outputs": [],
   "source": []
  },
  {
   "cell_type": "markdown",
   "metadata": {},
   "source": [
    "### c) Calculate the change in sea level difference across the Gulf Stream at a latitude 30N in response to a weakening of the current by 10%. Assume the original flow was 1 m/s, and that the width of the Gulf Stream there is 50 km."
   ]
  },
  {
   "cell_type": "code",
   "execution_count": null,
   "metadata": {},
   "outputs": [],
   "source": []
  },
  {
   "cell_type": "markdown",
   "metadata": {},
   "source": [
    "## 5) Sea-level gravitational fingerprint: \n",
    "\n",
    "Consider the sea level fingerprints in figure 4.7a,b. Where is melting happening? Explain these sea level change patterns.## 5) Sea-level gravitational fingerprint: "
   ]
  },
  {
   "cell_type": "code",
   "execution_count": null,
   "metadata": {},
   "outputs": [],
   "source": []
  },
  {
   "cell_type": "markdown",
   "metadata": {},
   "source": [
    "## 6) Optional extra credit: Decadal variability vs climate change. \n",
    "\n",
    "Reproduce Figure 2 of Jevrejeva et al. (2008) using their data that is available here as the GMSL since 1700. Discuss: what are the implications of your analysis on the interpretation of the sea level acceleration during the most recent 20 years presented in Figure 1 of Nerem et al. (2018)? (see bibliography section of course notes) "
   ]
  },
  {
   "cell_type": "code",
   "execution_count": null,
   "metadata": {},
   "outputs": [],
   "source": []
  }
 ],
 "metadata": {
  "kernelspec": {
   "display_name": "Python 3 (ipykernel)",
   "language": "python",
   "name": "python3"
  },
  "language_info": {
   "codemirror_mode": {
    "name": "ipython",
    "version": 3
   },
   "file_extension": ".py",
   "mimetype": "text/x-python",
   "name": "python",
   "nbconvert_exporter": "python",
   "pygments_lexer": "ipython3",
   "version": "3.11.0"
  }
 },
 "nbformat": 4,
 "nbformat_minor": 4
}
